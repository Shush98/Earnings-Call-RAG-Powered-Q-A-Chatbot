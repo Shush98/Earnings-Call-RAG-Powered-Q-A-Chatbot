{
 "cells": [
  {
   "cell_type": "code",
   "execution_count": 1,
   "id": "fb31f226-59a4-4717-a6d6-255d24211f85",
   "metadata": {},
   "outputs": [],
   "source": [
    "import numpy as np\n",
    "import pandas as pd\n",
    "from datetime import datetime\n",
    "\n",
    "# for visualization\n",
    "import matplotlib.pyplot as plt\n",
    "import seaborn as sns\n",
    "sns.set_theme(style='ticks', font_scale=1.5)\n",
    "\n",
    "import warnings\n",
    "warnings.filterwarnings('ignore')"
   ]
  },
  {
   "cell_type": "code",
   "execution_count": 2,
   "id": "67038ec7-ac48-44e4-909e-03ced98bc9b3",
   "metadata": {},
   "outputs": [],
   "source": [
    "df = pd.read_pickle('c:/Users/Shushant PC/Desktop/Data Analysis Practice/data/earningsCall/motley-fool-data.pkl')"
   ]
  },
  {
   "cell_type": "code",
   "execution_count": 3,
   "id": "03287caf-989f-4df0-bee7-452c3c091497",
   "metadata": {},
   "outputs": [
    {
     "data": {
      "text/html": [
       "<div>\n",
       "<style scoped>\n",
       "    .dataframe tbody tr th:only-of-type {\n",
       "        vertical-align: middle;\n",
       "    }\n",
       "\n",
       "    .dataframe tbody tr th {\n",
       "        vertical-align: top;\n",
       "    }\n",
       "\n",
       "    .dataframe thead th {\n",
       "        text-align: right;\n",
       "    }\n",
       "</style>\n",
       "<table border=\"1\" class=\"dataframe\">\n",
       "  <thead>\n",
       "    <tr style=\"text-align: right;\">\n",
       "      <th></th>\n",
       "      <th>date</th>\n",
       "      <th>exchange</th>\n",
       "      <th>q</th>\n",
       "      <th>ticker</th>\n",
       "      <th>transcript</th>\n",
       "    </tr>\n",
       "  </thead>\n",
       "  <tbody>\n",
       "    <tr>\n",
       "      <th>0</th>\n",
       "      <td>Aug 27, 2020, 9:00 p.m. ET</td>\n",
       "      <td>NASDAQ: BILI</td>\n",
       "      <td>2020-Q2</td>\n",
       "      <td>BILI</td>\n",
       "      <td>Prepared Remarks:\\nOperator\\nGood day, and wel...</td>\n",
       "    </tr>\n",
       "    <tr>\n",
       "      <th>1</th>\n",
       "      <td>Jul 30, 2020, 4:30 p.m. ET</td>\n",
       "      <td>NYSE: GFF</td>\n",
       "      <td>2020-Q3</td>\n",
       "      <td>GFF</td>\n",
       "      <td>Prepared Remarks:\\nOperator\\nThank you for sta...</td>\n",
       "    </tr>\n",
       "    <tr>\n",
       "      <th>2</th>\n",
       "      <td>Oct 23, 2019, 5:00 p.m. ET</td>\n",
       "      <td>NASDAQ: LRCX</td>\n",
       "      <td>2020-Q1</td>\n",
       "      <td>LRCX</td>\n",
       "      <td>Prepared Remarks:\\nOperator\\nGood day and welc...</td>\n",
       "    </tr>\n",
       "    <tr>\n",
       "      <th>3</th>\n",
       "      <td>Nov 6, 2019, 12:00 p.m. ET</td>\n",
       "      <td>NASDAQ: BBSI</td>\n",
       "      <td>2019-Q3</td>\n",
       "      <td>BBSI</td>\n",
       "      <td>Prepared Remarks:\\nOperator\\nGood day, everyon...</td>\n",
       "    </tr>\n",
       "    <tr>\n",
       "      <th>4</th>\n",
       "      <td>Aug 7, 2019, 8:30 a.m. ET</td>\n",
       "      <td>NASDAQ: CSTE</td>\n",
       "      <td>2019-Q2</td>\n",
       "      <td>CSTE</td>\n",
       "      <td>Prepared Remarks:\\nOperator\\nGreetings and wel...</td>\n",
       "    </tr>\n",
       "  </tbody>\n",
       "</table>\n",
       "</div>"
      ],
      "text/plain": [
       "                         date      exchange        q ticker  \\\n",
       "0  Aug 27, 2020, 9:00 p.m. ET  NASDAQ: BILI  2020-Q2   BILI   \n",
       "1  Jul 30, 2020, 4:30 p.m. ET     NYSE: GFF  2020-Q3    GFF   \n",
       "2  Oct 23, 2019, 5:00 p.m. ET  NASDAQ: LRCX  2020-Q1   LRCX   \n",
       "3  Nov 6, 2019, 12:00 p.m. ET  NASDAQ: BBSI  2019-Q3   BBSI   \n",
       "4   Aug 7, 2019, 8:30 a.m. ET  NASDAQ: CSTE  2019-Q2   CSTE   \n",
       "\n",
       "                                          transcript  \n",
       "0  Prepared Remarks:\\nOperator\\nGood day, and wel...  \n",
       "1  Prepared Remarks:\\nOperator\\nThank you for sta...  \n",
       "2  Prepared Remarks:\\nOperator\\nGood day and welc...  \n",
       "3  Prepared Remarks:\\nOperator\\nGood day, everyon...  \n",
       "4  Prepared Remarks:\\nOperator\\nGreetings and wel...  "
      ]
     },
     "execution_count": 3,
     "metadata": {},
     "output_type": "execute_result"
    }
   ],
   "source": [
    "df.head()"
   ]
  },
  {
   "cell_type": "code",
   "execution_count": 4,
   "id": "26edaaea-4e9a-4254-a899-d2d624d76946",
   "metadata": {},
   "outputs": [
    {
     "data": {
      "text/html": [
       "<div>\n",
       "<style scoped>\n",
       "    .dataframe tbody tr th:only-of-type {\n",
       "        vertical-align: middle;\n",
       "    }\n",
       "\n",
       "    .dataframe tbody tr th {\n",
       "        vertical-align: top;\n",
       "    }\n",
       "\n",
       "    .dataframe thead th {\n",
       "        text-align: right;\n",
       "    }\n",
       "</style>\n",
       "<table border=\"1\" class=\"dataframe\">\n",
       "  <thead>\n",
       "    <tr style=\"text-align: right;\">\n",
       "      <th></th>\n",
       "      <th>date</th>\n",
       "      <th>exchange</th>\n",
       "      <th>q</th>\n",
       "      <th>ticker</th>\n",
       "      <th>transcript</th>\n",
       "    </tr>\n",
       "  </thead>\n",
       "  <tbody>\n",
       "    <tr>\n",
       "      <th>0</th>\n",
       "      <td>2020-08-27 21:00:00+00:00</td>\n",
       "      <td>NASDAQ</td>\n",
       "      <td>2020-Q2</td>\n",
       "      <td>BILI</td>\n",
       "      <td>Prepared Remarks:\\nOperator\\nGood day, and wel...</td>\n",
       "    </tr>\n",
       "    <tr>\n",
       "      <th>1</th>\n",
       "      <td>2020-07-30 16:30:00+00:00</td>\n",
       "      <td>NYSE</td>\n",
       "      <td>2020-Q3</td>\n",
       "      <td>GFF</td>\n",
       "      <td>Prepared Remarks:\\nOperator\\nThank you for sta...</td>\n",
       "    </tr>\n",
       "    <tr>\n",
       "      <th>2</th>\n",
       "      <td>2019-10-23 17:00:00+00:00</td>\n",
       "      <td>NASDAQ</td>\n",
       "      <td>2020-Q1</td>\n",
       "      <td>LRCX</td>\n",
       "      <td>Prepared Remarks:\\nOperator\\nGood day and welc...</td>\n",
       "    </tr>\n",
       "    <tr>\n",
       "      <th>3</th>\n",
       "      <td>2019-11-06 12:00:00+00:00</td>\n",
       "      <td>NASDAQ</td>\n",
       "      <td>2019-Q3</td>\n",
       "      <td>BBSI</td>\n",
       "      <td>Prepared Remarks:\\nOperator\\nGood day, everyon...</td>\n",
       "    </tr>\n",
       "    <tr>\n",
       "      <th>4</th>\n",
       "      <td>2019-08-07 08:30:00+00:00</td>\n",
       "      <td>NASDAQ</td>\n",
       "      <td>2019-Q2</td>\n",
       "      <td>CSTE</td>\n",
       "      <td>Prepared Remarks:\\nOperator\\nGreetings and wel...</td>\n",
       "    </tr>\n",
       "  </tbody>\n",
       "</table>\n",
       "</div>"
      ],
      "text/plain": [
       "                       date exchange        q ticker  \\\n",
       "0 2020-08-27 21:00:00+00:00   NASDAQ  2020-Q2   BILI   \n",
       "1 2020-07-30 16:30:00+00:00     NYSE  2020-Q3    GFF   \n",
       "2 2019-10-23 17:00:00+00:00   NASDAQ  2020-Q1   LRCX   \n",
       "3 2019-11-06 12:00:00+00:00   NASDAQ  2019-Q3   BBSI   \n",
       "4 2019-08-07 08:30:00+00:00   NASDAQ  2019-Q2   CSTE   \n",
       "\n",
       "                                          transcript  \n",
       "0  Prepared Remarks:\\nOperator\\nGood day, and wel...  \n",
       "1  Prepared Remarks:\\nOperator\\nThank you for sta...  \n",
       "2  Prepared Remarks:\\nOperator\\nGood day and welc...  \n",
       "3  Prepared Remarks:\\nOperator\\nGood day, everyon...  \n",
       "4  Prepared Remarks:\\nOperator\\nGreetings and wel...  "
      ]
     },
     "execution_count": 4,
     "metadata": {},
     "output_type": "execute_result"
    }
   ],
   "source": [
    "# remove the text that appears after : in exchange column\n",
    "df['exchange'] = df['exchange'].str.split(':').str[0]\n",
    "\n",
    "# remove the information that appear before the date in all rows\n",
    "df['date'] = df.iloc[:, 0].apply(lambda x: x[-1] if isinstance(x, list) else x)\n",
    "# remove similar  str \"...... Earnings  Call\" from the first column using regex\n",
    "target_words = ['Call', 'Transcript']\n",
    "df.iloc[:, 0] = df.iloc[:, 0].str.replace(r'^.*?(?:' + '|'.join(target_words) + r')\\s*', '', regex=True)\n",
    "# convert the date string to datetime object\n",
    "df['date'] = pd.to_datetime(df['date'], format='mixed', utc=True)\n",
    "df.head()"
   ]
  },
  {
   "cell_type": "code",
   "execution_count": 5,
   "id": "38335082-9e81-4077-9075-dead01a2f344",
   "metadata": {},
   "outputs": [
    {
     "data": {
      "text/plain": [
       "exchange\n",
       "TSX           2\n",
       "OTC          34\n",
       "NYSE      10294\n",
       "NASDAQ     8425\n",
       "Name: count, dtype: int64"
      ]
     },
     "execution_count": 5,
     "metadata": {},
     "output_type": "execute_result"
    }
   ],
   "source": [
    "# replace text in the exchange column with the first letter of the text\n",
    "df['exchange'] = df['exchange'].str.replace('NYSEMKT', 'NYSE', regex=False)\n",
    "df['exchange'] = df['exchange'].str.replace('(NASDAQ', 'NASDAQ', regex=False)\n",
    "df['exchange'] = df['exchange'].str.replace('(NYSE', 'NYSE', regex=False)\n",
    "\n",
    "df['exchange'].value_counts().sort_index(ascending=False)"
   ]
  },
  {
   "cell_type": "code",
   "execution_count": 6,
   "id": "e02619a9-aed3-41c8-90e8-a90c43b25f82",
   "metadata": {},
   "outputs": [],
   "source": [
    "df['date'].fillna(method='ffill', inplace=True)"
   ]
  },
  {
   "cell_type": "code",
   "execution_count": 7,
   "id": "96f75d92-e1b9-40b7-87a1-611b86825042",
   "metadata": {},
   "outputs": [
    {
     "name": "stdout",
     "output_type": "stream",
     "text": [
      "DATASET OVERVIEW:\n",
      "Date range: 2017-11-03 08:30:00+00:00 to 2023-02-23 11:00:00+00:00\n",
      "Unique companies: 2876\n",
      "Unique exchanges: ['NASDAQ' 'NYSE' 'OTC' 'TSX']\n",
      "Total earnings calls: 18755\n"
     ]
    }
   ],
   "source": [
    "print(\"DATASET OVERVIEW:\")\n",
    "print(f\"Date range: {df['date'].min()} to {df['date'].max()}\")\n",
    "print(f\"Unique companies: {df['ticker'].nunique()}\")\n",
    "print(f\"Unique exchanges: {df['exchange'].unique()}\")\n",
    "print(f\"Total earnings calls: {len(df)}\")"
   ]
  },
  {
   "cell_type": "code",
   "execution_count": 8,
   "id": "b33af737-0446-422a-88e0-61823d182549",
   "metadata": {},
   "outputs": [],
   "source": [
    "df['year'] = pd.to_datetime(df['date']).dt.year\n",
    "df['quarter'] = df['q'].str.split('-').str[-1]"
   ]
  },
  {
   "cell_type": "code",
   "execution_count": 9,
   "id": "445ae950-3db3-4fdf-9a17-93d89f9aa8dd",
   "metadata": {},
   "outputs": [
    {
     "name": "stdout",
     "output_type": "stream",
     "text": [
      "\n",
      "DISTRIBUTION BY YEAR:\n",
      "year\n",
      "2017       9\n",
      "2018     141\n",
      "2019    1523\n",
      "2020    2900\n",
      "2021    9685\n",
      "2022    4295\n",
      "2023     202\n",
      "Name: count, dtype: int64\n",
      "\n",
      "DISTRIBUTION BY QUARTER:\n",
      "quarter\n",
      "Q1    4730\n",
      "Q2    5071\n",
      "Q3    4481\n",
      "Q4    4473\n",
      "Name: count, dtype: int64\n"
     ]
    }
   ],
   "source": [
    "print(\"\\nDISTRIBUTION BY YEAR:\")\n",
    "year_counts = df['year'].value_counts().sort_index()\n",
    "print(year_counts)\n",
    "\n",
    "print(\"\\nDISTRIBUTION BY QUARTER:\")\n",
    "quarter_counts = df['quarter'].value_counts().sort_index()\n",
    "print(quarter_counts)"
   ]
  },
  {
   "cell_type": "code",
   "execution_count": 10,
   "id": "4bb18313-2335-454f-b5d7-17b167f2de6e",
   "metadata": {},
   "outputs": [
    {
     "name": "stdout",
     "output_type": "stream",
     "text": [
      "\n",
      "TOP 20 COMPANIES BY EARNINGS CALLS:\n",
      "ticker\n",
      "AAPL     62\n",
      "GOOGL    58\n",
      "TSLA     52\n",
      "AMZN     39\n",
      "DIS      38\n",
      "BEST     37\n",
      "SE       27\n",
      "MRNA     21\n",
      "PTC      21\n",
      "PARA     18\n",
      "WWE      18\n",
      "IBM      18\n",
      "SQ       17\n",
      "BLK      17\n",
      "KO       17\n",
      "INTC     16\n",
      "YY       16\n",
      "CLDT     16\n",
      "WMT      15\n",
      "AXL      15\n",
      "Name: count, dtype: int64\n"
     ]
    }
   ],
   "source": [
    "print(\"\\nTOP 20 COMPANIES BY EARNINGS CALLS:\")\n",
    "top_companies = df['ticker'].value_counts().head(20)\n",
    "print(top_companies)"
   ]
  },
  {
   "cell_type": "code",
   "execution_count": 11,
   "id": "e7124473-a884-47e1-8392-c26ea7b38824",
   "metadata": {},
   "outputs": [
    {
     "name": "stdout",
     "output_type": "stream",
     "text": [
      "\n",
      "TRANSCRIPT LENGTH STATS:\n",
      "Mean length: 47303 characters\n",
      "Median length: 47930 characters\n",
      "Min length: 3616 characters\n",
      "Max length: 188514 characters\n"
     ]
    }
   ],
   "source": [
    "# Sample transcript length analysis\n",
    "df['transcript_length'] = df['transcript'].str.len()\n",
    "print(f\"\\nTRANSCRIPT LENGTH STATS:\")\n",
    "print(f\"Mean length: {df['transcript_length'].mean():.0f} characters\")\n",
    "print(f\"Median length: {df['transcript_length'].median():.0f} characters\")\n",
    "print(f\"Min length: {df['transcript_length'].min():.0f} characters\")\n",
    "print(f\"Max length: {df['transcript_length'].max():.0f} characters\")"
   ]
  },
  {
   "cell_type": "code",
   "execution_count": 12,
   "id": "89f8fbc8-a9fe-4633-b81e-159c2cd7c0c3",
   "metadata": {},
   "outputs": [
    {
     "name": "stdout",
     "output_type": "stream",
     "text": [
      "\n",
      "SAMPLE TRANSCRIPT PREVIEW:\n",
      "Company: BILI\n",
      "Date: 2020-08-27 21:00:00+00:00\n",
      "First 1000 characters:\n",
      "Prepared Remarks:\n",
      "Operator\n",
      "Good day, and welcome to the Bilibili 2020 Second Quarter Earnings Conference Call. Today's conference is being recorded.\n",
      "At this time, I would like to turn the conference over to Juliet Yang, Senior Director of Investor Relations. Please go ahead.\n",
      "Juliet Yang -- Senior Director of Investor Relations\n",
      "Thank you, operator.\n",
      "Please note the discussion today will contain forward-looking statements relating to the Company's future performance, and are intended to qualify for the Safe Harbor from liability, as established by the US Private Securities Litigation Reform Act. Such statements are not guarantees of future performance and are subject to certain risks and uncertainties, assumptions and other factors. Some of these risks are beyond the Company's control and could cause actual results to differ materially from those mentioned in today's press release and this discussion. A general discussion of the risk factors that could affect Bilibili's business and finan...\n"
     ]
    }
   ],
   "source": [
    "# Show sample transcript structure\n",
    "print(\"\\nSAMPLE TRANSCRIPT PREVIEW:\")\n",
    "sample_transcript = df.iloc[0]['transcript'][:1000]\n",
    "print(f\"Company: {df.iloc[0]['ticker']}\")\n",
    "print(f\"Date: {df.iloc[0]['date']}\")\n",
    "print(f\"First 1000 characters:\\n{sample_transcript}...\")"
   ]
  },
  {
   "cell_type": "code",
   "execution_count": 13,
   "id": "7ecddc20-9d48-4bdc-8ac6-17fa23631397",
   "metadata": {},
   "outputs": [
    {
     "name": "stdout",
     "output_type": "stream",
     "text": [
      "Transcripts < 5000 chars: 5 (0.0%)\n"
     ]
    }
   ],
   "source": [
    "# Check for very short transcripts (might be incomplete)\n",
    "short_transcripts = df[df['transcript_length'] < 5000]\n",
    "print(f\"Transcripts < 5000 chars: {len(short_transcripts)} ({len(short_transcripts)/len(df)*100:.1f}%)\")"
   ]
  },
  {
   "cell_type": "code",
   "execution_count": 14,
   "id": "3839e902-2418-4c2f-bf91-e91e8b6c4c30",
   "metadata": {},
   "outputs": [
    {
     "name": "stdout",
     "output_type": "stream",
     "text": [
      "Duplicate ticker-date combinations: 1211\n"
     ]
    }
   ],
   "source": [
    "duplicates = df.duplicated(subset=['ticker', 'date']).sum()\n",
    "print(f\"Duplicate ticker-date combinations: {duplicates}\")"
   ]
  },
  {
   "cell_type": "code",
   "execution_count": 15,
   "id": "0c1da379-2e23-4180-840d-2d21eef083a0",
   "metadata": {},
   "outputs": [],
   "source": [
    "df.drop_duplicates(subset=['ticker','date'], keep='last', inplace=True, ignore_index=True)"
   ]
  },
  {
   "cell_type": "code",
   "execution_count": 16,
   "id": "8b00e81f-67a3-4bb5-99cf-be8cb84208ef",
   "metadata": {},
   "outputs": [
    {
     "data": {
      "text/plain": [
       "(17544, 8)"
      ]
     },
     "execution_count": 16,
     "metadata": {},
     "output_type": "execute_result"
    }
   ],
   "source": [
    "df.shape"
   ]
  },
  {
   "cell_type": "code",
   "execution_count": 17,
   "id": "0283d540-378a-4a19-93d5-e2cedcf610d2",
   "metadata": {},
   "outputs": [
    {
     "data": {
      "text/html": [
       "<div>\n",
       "<style scoped>\n",
       "    .dataframe tbody tr th:only-of-type {\n",
       "        vertical-align: middle;\n",
       "    }\n",
       "\n",
       "    .dataframe tbody tr th {\n",
       "        vertical-align: top;\n",
       "    }\n",
       "\n",
       "    .dataframe thead th {\n",
       "        text-align: right;\n",
       "    }\n",
       "</style>\n",
       "<table border=\"1\" class=\"dataframe\">\n",
       "  <thead>\n",
       "    <tr style=\"text-align: right;\">\n",
       "      <th></th>\n",
       "      <th>date</th>\n",
       "      <th>exchange</th>\n",
       "      <th>q</th>\n",
       "      <th>ticker</th>\n",
       "      <th>transcript</th>\n",
       "      <th>year</th>\n",
       "      <th>quarter</th>\n",
       "      <th>transcript_length</th>\n",
       "    </tr>\n",
       "  </thead>\n",
       "  <tbody>\n",
       "    <tr>\n",
       "      <th>1038</th>\n",
       "      <td>2018-11-15 17:30:00+00:00</td>\n",
       "      <td>NASDAQ</td>\n",
       "      <td>2019-Q3</td>\n",
       "      <td>NVDA</td>\n",
       "      <td>Prepared Remarks:\\nOperator\\nGood afternoon. M...</td>\n",
       "      <td>2018</td>\n",
       "      <td>Q3</td>\n",
       "      <td>41989</td>\n",
       "    </tr>\n",
       "    <tr>\n",
       "      <th>2614</th>\n",
       "      <td>2021-02-24 17:00:00+00:00</td>\n",
       "      <td>NASDAQ</td>\n",
       "      <td>2021-Q4</td>\n",
       "      <td>NVDA</td>\n",
       "      <td>Prepared Remarks:\\nOperator\\nGood afternoon, m...</td>\n",
       "      <td>2021</td>\n",
       "      <td>Q4</td>\n",
       "      <td>51612</td>\n",
       "    </tr>\n",
       "    <tr>\n",
       "      <th>5748</th>\n",
       "      <td>2019-11-14 17:30:00+00:00</td>\n",
       "      <td>NASDAQ</td>\n",
       "      <td>2019-Q3</td>\n",
       "      <td>NVDA</td>\n",
       "      <td>Prepared Remarks:\\nOperator\\nGood afternoon, m...</td>\n",
       "      <td>2019</td>\n",
       "      <td>Q3</td>\n",
       "      <td>49730</td>\n",
       "    </tr>\n",
       "    <tr>\n",
       "      <th>6048</th>\n",
       "      <td>2019-08-15 17:30:00+00:00</td>\n",
       "      <td>NASDAQ</td>\n",
       "      <td>2020-Q2</td>\n",
       "      <td>NVDA</td>\n",
       "      <td>Prepared Remarks:\\nOperator\\nGood afternoon, m...</td>\n",
       "      <td>2019</td>\n",
       "      <td>Q2</td>\n",
       "      <td>50134</td>\n",
       "    </tr>\n",
       "    <tr>\n",
       "      <th>11442</th>\n",
       "      <td>2021-11-17 17:00:00+00:00</td>\n",
       "      <td>NASDAQ</td>\n",
       "      <td>2021-Q3</td>\n",
       "      <td>NVDA</td>\n",
       "      <td>Prepared Remarks:\\nOperator\\nGood afternoon. M...</td>\n",
       "      <td>2021</td>\n",
       "      <td>Q3</td>\n",
       "      <td>50679</td>\n",
       "    </tr>\n",
       "    <tr>\n",
       "      <th>12240</th>\n",
       "      <td>2022-11-16 17:00:00+00:00</td>\n",
       "      <td>NASDAQ</td>\n",
       "      <td>2023-Q3</td>\n",
       "      <td>NVDA</td>\n",
       "      <td>Prepared Remarks:\\nOperator\\nGood afternoon. M...</td>\n",
       "      <td>2022</td>\n",
       "      <td>Q3</td>\n",
       "      <td>49369</td>\n",
       "    </tr>\n",
       "    <tr>\n",
       "      <th>15460</th>\n",
       "      <td>2022-05-25 17:00:00+00:00</td>\n",
       "      <td>NASDAQ</td>\n",
       "      <td>2023-Q1</td>\n",
       "      <td>NVDA</td>\n",
       "      <td>Prepared Remarks:\\nOperator\\nGood afternoon. M...</td>\n",
       "      <td>2022</td>\n",
       "      <td>Q1</td>\n",
       "      <td>51261</td>\n",
       "    </tr>\n",
       "    <tr>\n",
       "      <th>15822</th>\n",
       "      <td>2022-02-16 17:30:00+00:00</td>\n",
       "      <td>NASDAQ</td>\n",
       "      <td>2022-Q4</td>\n",
       "      <td>NVDA</td>\n",
       "      <td>Prepared Remarks:\\nOperator\\nGood afternoon. M...</td>\n",
       "      <td>2022</td>\n",
       "      <td>Q4</td>\n",
       "      <td>48938</td>\n",
       "    </tr>\n",
       "    <tr>\n",
       "      <th>16748</th>\n",
       "      <td>2021-08-18 17:00:00+00:00</td>\n",
       "      <td>NASDAQ</td>\n",
       "      <td>2022-Q2</td>\n",
       "      <td>NVDA</td>\n",
       "      <td>Prepared Remarks:\\nOperator\\nGood afternoon. M...</td>\n",
       "      <td>2021</td>\n",
       "      <td>Q2</td>\n",
       "      <td>54240</td>\n",
       "    </tr>\n",
       "    <tr>\n",
       "      <th>17536</th>\n",
       "      <td>2022-08-24 17:00:00+00:00</td>\n",
       "      <td>NASDAQ</td>\n",
       "      <td>2023-Q2</td>\n",
       "      <td>NVDA</td>\n",
       "      <td>Prepared Remarks:\\nOperator\\nGood afternoon. M...</td>\n",
       "      <td>2022</td>\n",
       "      <td>Q2</td>\n",
       "      <td>50275</td>\n",
       "    </tr>\n",
       "  </tbody>\n",
       "</table>\n",
       "</div>"
      ],
      "text/plain": [
       "                           date exchange        q ticker  \\\n",
       "1038  2018-11-15 17:30:00+00:00   NASDAQ  2019-Q3   NVDA   \n",
       "2614  2021-02-24 17:00:00+00:00   NASDAQ  2021-Q4   NVDA   \n",
       "5748  2019-11-14 17:30:00+00:00   NASDAQ  2019-Q3   NVDA   \n",
       "6048  2019-08-15 17:30:00+00:00   NASDAQ  2020-Q2   NVDA   \n",
       "11442 2021-11-17 17:00:00+00:00   NASDAQ  2021-Q3   NVDA   \n",
       "12240 2022-11-16 17:00:00+00:00   NASDAQ  2023-Q3   NVDA   \n",
       "15460 2022-05-25 17:00:00+00:00   NASDAQ  2023-Q1   NVDA   \n",
       "15822 2022-02-16 17:30:00+00:00   NASDAQ  2022-Q4   NVDA   \n",
       "16748 2021-08-18 17:00:00+00:00   NASDAQ  2022-Q2   NVDA   \n",
       "17536 2022-08-24 17:00:00+00:00   NASDAQ  2023-Q2   NVDA   \n",
       "\n",
       "                                              transcript  year quarter  \\\n",
       "1038   Prepared Remarks:\\nOperator\\nGood afternoon. M...  2018      Q3   \n",
       "2614   Prepared Remarks:\\nOperator\\nGood afternoon, m...  2021      Q4   \n",
       "5748   Prepared Remarks:\\nOperator\\nGood afternoon, m...  2019      Q3   \n",
       "6048   Prepared Remarks:\\nOperator\\nGood afternoon, m...  2019      Q2   \n",
       "11442  Prepared Remarks:\\nOperator\\nGood afternoon. M...  2021      Q3   \n",
       "12240  Prepared Remarks:\\nOperator\\nGood afternoon. M...  2022      Q3   \n",
       "15460  Prepared Remarks:\\nOperator\\nGood afternoon. M...  2022      Q1   \n",
       "15822  Prepared Remarks:\\nOperator\\nGood afternoon. M...  2022      Q4   \n",
       "16748  Prepared Remarks:\\nOperator\\nGood afternoon. M...  2021      Q2   \n",
       "17536  Prepared Remarks:\\nOperator\\nGood afternoon. M...  2022      Q2   \n",
       "\n",
       "       transcript_length  \n",
       "1038               41989  \n",
       "2614               51612  \n",
       "5748               49730  \n",
       "6048               50134  \n",
       "11442              50679  \n",
       "12240              49369  \n",
       "15460              51261  \n",
       "15822              48938  \n",
       "16748              54240  \n",
       "17536              50275  "
      ]
     },
     "execution_count": 17,
     "metadata": {},
     "output_type": "execute_result"
    }
   ],
   "source": [
    "df[df['ticker']=='NVDA']"
   ]
  },
  {
   "cell_type": "code",
   "execution_count": 18,
   "id": "a3f54ff8-fe3d-49d9-addf-40db4d0d17e3",
   "metadata": {},
   "outputs": [],
   "source": [
    "target_companies = {\n",
    "'AAPL': 'Apple',\n",
    "'GOOGL': 'Google',\n",
    "'TSLA': 'Tesla',\n",
    "'AMZN': 'Amazon',\n",
    "'DIS': 'Disney',\n",
    "'SE': 'Sea Limited',\n",
    "'NVDA': 'Nvidia',\n",
    "'PTC': 'PTC',\n",
    "'PARA': 'Paramount',\n",
    "'META': 'Meta',\n",
    "'IBM': 'IBM'}"
   ]
  },
  {
   "cell_type": "code",
   "execution_count": 19,
   "id": "72e1a8ab-32ab-45a0-bc68-72a6b23140a5",
   "metadata": {},
   "outputs": [],
   "source": [
    "data = df[df['ticker'].isin(target_companies)]\n",
    "data = data[['date','exchange','ticker','transcript','year','quarter','transcript_length']]"
   ]
  },
  {
   "cell_type": "code",
   "execution_count": 20,
   "id": "461a1246-d8fb-4eff-9999-db2666ef1543",
   "metadata": {},
   "outputs": [
    {
     "data": {
      "text/plain": [
       "(123, 8)"
      ]
     },
     "execution_count": 20,
     "metadata": {},
     "output_type": "execute_result"
    }
   ],
   "source": [
    "data.shape"
   ]
  },
  {
   "cell_type": "code",
   "execution_count": 23,
   "id": "2c692f81-2245-4b3f-bdb4-dfc905b3afe0",
   "metadata": {},
   "outputs": [
    {
     "data": {
      "text/html": [
       "<div>\n",
       "<style scoped>\n",
       "    .dataframe tbody tr th:only-of-type {\n",
       "        vertical-align: middle;\n",
       "    }\n",
       "\n",
       "    .dataframe tbody tr th {\n",
       "        vertical-align: top;\n",
       "    }\n",
       "\n",
       "    .dataframe thead th {\n",
       "        text-align: right;\n",
       "    }\n",
       "</style>\n",
       "<table border=\"1\" class=\"dataframe\">\n",
       "  <thead>\n",
       "    <tr style=\"text-align: right;\">\n",
       "      <th></th>\n",
       "      <th>date</th>\n",
       "      <th>exchange</th>\n",
       "      <th>ticker</th>\n",
       "      <th>transcript</th>\n",
       "      <th>year</th>\n",
       "      <th>quarter</th>\n",
       "      <th>transcript_length</th>\n",
       "    </tr>\n",
       "  </thead>\n",
       "  <tbody>\n",
       "    <tr>\n",
       "      <th>103</th>\n",
       "      <td>2022-10-27 17:30:00+00:00</td>\n",
       "      <td>NASDAQ</td>\n",
       "      <td>AMZN</td>\n",
       "      <td>Prepared Remarks:\\nOperator\\nThank you for sta...</td>\n",
       "      <td>2022</td>\n",
       "      <td>Q3</td>\n",
       "      <td>30798</td>\n",
       "    </tr>\n",
       "    <tr>\n",
       "      <th>143</th>\n",
       "      <td>2021-05-13 16:30:00+00:00</td>\n",
       "      <td>NYSE</td>\n",
       "      <td>DIS</td>\n",
       "      <td>Prepared Remarks:\\nOperator\\nGood day, and tha...</td>\n",
       "      <td>2021</td>\n",
       "      <td>Q2</td>\n",
       "      <td>54250</td>\n",
       "    </tr>\n",
       "    <tr>\n",
       "      <th>213</th>\n",
       "      <td>2020-01-22 17:00:00+00:00</td>\n",
       "      <td>NASDAQ</td>\n",
       "      <td>PTC</td>\n",
       "      <td>Prepared Remarks:\\nOperator\\nGood afternoon, l...</td>\n",
       "      <td>2020</td>\n",
       "      <td>Q1</td>\n",
       "      <td>52251</td>\n",
       "    </tr>\n",
       "    <tr>\n",
       "      <th>214</th>\n",
       "      <td>2022-07-18 17:00:00+00:00</td>\n",
       "      <td>NYSE</td>\n",
       "      <td>IBM</td>\n",
       "      <td>Prepared Remarks:\\nOperator\\nWelcome, and than...</td>\n",
       "      <td>2022</td>\n",
       "      <td>Q2</td>\n",
       "      <td>55209</td>\n",
       "    </tr>\n",
       "    <tr>\n",
       "      <th>389</th>\n",
       "      <td>2022-07-28 17:00:00+00:00</td>\n",
       "      <td>NASDAQ</td>\n",
       "      <td>AAPL</td>\n",
       "      <td>Prepared Remarks:\\nOperator\\nGood day, and wel...</td>\n",
       "      <td>2022</td>\n",
       "      <td>Q3</td>\n",
       "      <td>48337</td>\n",
       "    </tr>\n",
       "  </tbody>\n",
       "</table>\n",
       "</div>"
      ],
      "text/plain": [
       "                         date exchange ticker  \\\n",
       "103 2022-10-27 17:30:00+00:00   NASDAQ   AMZN   \n",
       "143 2021-05-13 16:30:00+00:00     NYSE    DIS   \n",
       "213 2020-01-22 17:00:00+00:00   NASDAQ    PTC   \n",
       "214 2022-07-18 17:00:00+00:00     NYSE    IBM   \n",
       "389 2022-07-28 17:00:00+00:00   NASDAQ   AAPL   \n",
       "\n",
       "                                            transcript  year quarter  \\\n",
       "103  Prepared Remarks:\\nOperator\\nThank you for sta...  2022      Q3   \n",
       "143  Prepared Remarks:\\nOperator\\nGood day, and tha...  2021      Q2   \n",
       "213  Prepared Remarks:\\nOperator\\nGood afternoon, l...  2020      Q1   \n",
       "214  Prepared Remarks:\\nOperator\\nWelcome, and than...  2022      Q2   \n",
       "389  Prepared Remarks:\\nOperator\\nGood day, and wel...  2022      Q3   \n",
       "\n",
       "     transcript_length  \n",
       "103              30798  \n",
       "143              54250  \n",
       "213              52251  \n",
       "214              55209  \n",
       "389              48337  "
      ]
     },
     "execution_count": 23,
     "metadata": {},
     "output_type": "execute_result"
    }
   ],
   "source": [
    "data.head()"
   ]
  },
  {
   "cell_type": "code",
   "execution_count": 24,
   "id": "39ae1d6d-33f0-4b3e-bb87-8f6c13c5a53d",
   "metadata": {},
   "outputs": [
    {
     "data": {
      "text/plain": [
       "ticker\n",
       "GOOGL    15\n",
       "AAPL     14\n",
       "AMZN     12\n",
       "DIS      12\n",
       "TSLA     12\n",
       "PTC      11\n",
       "IBM      11\n",
       "NVDA     10\n",
       "SE       10\n",
       "META      8\n",
       "PARA      8\n",
       "Name: count, dtype: int64"
      ]
     },
     "execution_count": 24,
     "metadata": {},
     "output_type": "execute_result"
    }
   ],
   "source": [
    "data['ticker'].value_counts()"
   ]
  },
  {
   "cell_type": "code",
   "execution_count": 25,
   "id": "287fa95f-31bc-407d-b1b1-d8eee9353de2",
   "metadata": {},
   "outputs": [],
   "source": [
    "data['company_name'] = data['ticker'].map(target_companies)"
   ]
  },
  {
   "cell_type": "code",
   "execution_count": 26,
   "id": "a3e94485-73c0-43bc-9d6b-c9043a5c6baf",
   "metadata": {},
   "outputs": [
    {
     "data": {
      "text/html": [
       "<div>\n",
       "<style scoped>\n",
       "    .dataframe tbody tr th:only-of-type {\n",
       "        vertical-align: middle;\n",
       "    }\n",
       "\n",
       "    .dataframe tbody tr th {\n",
       "        vertical-align: top;\n",
       "    }\n",
       "\n",
       "    .dataframe thead th {\n",
       "        text-align: right;\n",
       "    }\n",
       "</style>\n",
       "<table border=\"1\" class=\"dataframe\">\n",
       "  <thead>\n",
       "    <tr style=\"text-align: right;\">\n",
       "      <th></th>\n",
       "      <th>date</th>\n",
       "      <th>exchange</th>\n",
       "      <th>ticker</th>\n",
       "      <th>transcript</th>\n",
       "      <th>year</th>\n",
       "      <th>quarter</th>\n",
       "      <th>transcript_length</th>\n",
       "      <th>company_name</th>\n",
       "    </tr>\n",
       "  </thead>\n",
       "  <tbody>\n",
       "    <tr>\n",
       "      <th>103</th>\n",
       "      <td>2022-10-27 17:30:00+00:00</td>\n",
       "      <td>NASDAQ</td>\n",
       "      <td>AMZN</td>\n",
       "      <td>Prepared Remarks:\\nOperator\\nThank you for sta...</td>\n",
       "      <td>2022</td>\n",
       "      <td>Q3</td>\n",
       "      <td>30798</td>\n",
       "      <td>Amazon</td>\n",
       "    </tr>\n",
       "    <tr>\n",
       "      <th>143</th>\n",
       "      <td>2021-05-13 16:30:00+00:00</td>\n",
       "      <td>NYSE</td>\n",
       "      <td>DIS</td>\n",
       "      <td>Prepared Remarks:\\nOperator\\nGood day, and tha...</td>\n",
       "      <td>2021</td>\n",
       "      <td>Q2</td>\n",
       "      <td>54250</td>\n",
       "      <td>Disney</td>\n",
       "    </tr>\n",
       "    <tr>\n",
       "      <th>213</th>\n",
       "      <td>2020-01-22 17:00:00+00:00</td>\n",
       "      <td>NASDAQ</td>\n",
       "      <td>PTC</td>\n",
       "      <td>Prepared Remarks:\\nOperator\\nGood afternoon, l...</td>\n",
       "      <td>2020</td>\n",
       "      <td>Q1</td>\n",
       "      <td>52251</td>\n",
       "      <td>PTC</td>\n",
       "    </tr>\n",
       "    <tr>\n",
       "      <th>214</th>\n",
       "      <td>2022-07-18 17:00:00+00:00</td>\n",
       "      <td>NYSE</td>\n",
       "      <td>IBM</td>\n",
       "      <td>Prepared Remarks:\\nOperator\\nWelcome, and than...</td>\n",
       "      <td>2022</td>\n",
       "      <td>Q2</td>\n",
       "      <td>55209</td>\n",
       "      <td>IBM</td>\n",
       "    </tr>\n",
       "    <tr>\n",
       "      <th>389</th>\n",
       "      <td>2022-07-28 17:00:00+00:00</td>\n",
       "      <td>NASDAQ</td>\n",
       "      <td>AAPL</td>\n",
       "      <td>Prepared Remarks:\\nOperator\\nGood day, and wel...</td>\n",
       "      <td>2022</td>\n",
       "      <td>Q3</td>\n",
       "      <td>48337</td>\n",
       "      <td>Apple</td>\n",
       "    </tr>\n",
       "  </tbody>\n",
       "</table>\n",
       "</div>"
      ],
      "text/plain": [
       "                         date exchange ticker  \\\n",
       "103 2022-10-27 17:30:00+00:00   NASDAQ   AMZN   \n",
       "143 2021-05-13 16:30:00+00:00     NYSE    DIS   \n",
       "213 2020-01-22 17:00:00+00:00   NASDAQ    PTC   \n",
       "214 2022-07-18 17:00:00+00:00     NYSE    IBM   \n",
       "389 2022-07-28 17:00:00+00:00   NASDAQ   AAPL   \n",
       "\n",
       "                                            transcript  year quarter  \\\n",
       "103  Prepared Remarks:\\nOperator\\nThank you for sta...  2022      Q3   \n",
       "143  Prepared Remarks:\\nOperator\\nGood day, and tha...  2021      Q2   \n",
       "213  Prepared Remarks:\\nOperator\\nGood afternoon, l...  2020      Q1   \n",
       "214  Prepared Remarks:\\nOperator\\nWelcome, and than...  2022      Q2   \n",
       "389  Prepared Remarks:\\nOperator\\nGood day, and wel...  2022      Q3   \n",
       "\n",
       "     transcript_length company_name  \n",
       "103              30798       Amazon  \n",
       "143              54250       Disney  \n",
       "213              52251          PTC  \n",
       "214              55209          IBM  \n",
       "389              48337        Apple  "
      ]
     },
     "execution_count": 26,
     "metadata": {},
     "output_type": "execute_result"
    }
   ],
   "source": [
    "data.head()"
   ]
  },
  {
   "cell_type": "code",
   "execution_count": 27,
   "id": "2cfeaca6-c2e9-42d1-b5e1-4aeebf788449",
   "metadata": {},
   "outputs": [
    {
     "data": {
      "text/plain": [
       "company_name\n",
       "Google         15\n",
       "Apple          14\n",
       "Amazon         12\n",
       "Disney         12\n",
       "Tesla          12\n",
       "PTC            11\n",
       "IBM            11\n",
       "Nvidia         10\n",
       "Sea Limited    10\n",
       "Meta            8\n",
       "Paramount       8\n",
       "Name: count, dtype: int64"
      ]
     },
     "execution_count": 27,
     "metadata": {},
     "output_type": "execute_result"
    }
   ],
   "source": [
    "data['company_name'].value_counts()"
   ]
  },
  {
   "cell_type": "code",
   "execution_count": null,
   "id": "713f4a40-bac7-4bbe-91a9-6c13f7960059",
   "metadata": {},
   "outputs": [],
   "source": []
  },
  {
   "cell_type": "code",
   "execution_count": null,
   "id": "976823ff-041f-48bf-a353-972f5ddb93cd",
   "metadata": {},
   "outputs": [],
   "source": []
  },
  {
   "cell_type": "code",
   "execution_count": null,
   "id": "8e1c4234-aaf4-4238-8ecf-84b1b0814c75",
   "metadata": {},
   "outputs": [],
   "source": []
  },
  {
   "cell_type": "code",
   "execution_count": 28,
   "id": "81b0032f-c5d4-4463-a1cc-712e7c180706",
   "metadata": {},
   "outputs": [
    {
     "name": "stderr",
     "output_type": "stream",
     "text": [
      "[nltk_data] Downloading package punkt_tab to C:\\Users\\Shushant\n",
      "[nltk_data]     PC\\AppData\\Roaming\\nltk_data...\n",
      "[nltk_data]   Package punkt_tab is already up-to-date!\n",
      "[nltk_data] Downloading package averaged_perceptron_tagger_eng to\n",
      "[nltk_data]     C:\\Users\\Shushant PC\\AppData\\Roaming\\nltk_data...\n",
      "[nltk_data]   Package averaged_perceptron_tagger_eng is already up-to-\n",
      "[nltk_data]       date!\n"
     ]
    },
    {
     "data": {
      "text/plain": [
       "True"
      ]
     },
     "execution_count": 28,
     "metadata": {},
     "output_type": "execute_result"
    }
   ],
   "source": [
    "import nltk\n",
    "nltk.download('punkt_tab')\n",
    "nltk.download('averaged_perceptron_tagger_eng')"
   ]
  },
  {
   "cell_type": "code",
   "execution_count": 29,
   "id": "2a70d34c-5bbb-4df5-91da-d2598d049fe1",
   "metadata": {},
   "outputs": [],
   "source": [
    "# from langchain.document_loaders import DirectoryLoader\n",
    "from langchain_community.document_loaders import DirectoryLoader\n",
    "from langchain.text_splitter import RecursiveCharacterTextSplitter\n",
    "from langchain.schema import Document\n",
    "# from langchain.embeddings import OpenAIEmbeddings\n",
    "from langchain_openai import OpenAIEmbeddings\n",
    "from langchain_community.vectorstores import Chroma\n",
    "import openai \n",
    "from dotenv import load_dotenv\n",
    "import os\n",
    "import shutil"
   ]
  },
  {
   "cell_type": "code",
   "execution_count": null,
   "id": "74c03d70-bd44-4beb-be7f-610e5210aeee",
   "metadata": {},
   "outputs": [],
   "source": []
  }
 ],
 "metadata": {
  "kernelspec": {
   "display_name": "envRAG",
   "language": "python",
   "name": "envrag"
  },
  "language_info": {
   "codemirror_mode": {
    "name": "ipython",
    "version": 3
   },
   "file_extension": ".py",
   "mimetype": "text/x-python",
   "name": "python",
   "nbconvert_exporter": "python",
   "pygments_lexer": "ipython3",
   "version": "3.10.9"
  }
 },
 "nbformat": 4,
 "nbformat_minor": 5
}
